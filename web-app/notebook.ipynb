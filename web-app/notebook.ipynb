{
 "cells": [
  {
   "cell_type": "code",
   "execution_count": 21,
   "id": "c15aa187-708a-4bb1-8ade-a07e3c0cb030",
   "metadata": {},
   "outputs": [
    {
     "data": {
      "text/html": [
       "<div>\n",
       "<style scoped>\n",
       "    .dataframe tbody tr th:only-of-type {\n",
       "        vertical-align: middle;\n",
       "    }\n",
       "\n",
       "    .dataframe tbody tr th {\n",
       "        vertical-align: top;\n",
       "    }\n",
       "\n",
       "    .dataframe thead th {\n",
       "        text-align: right;\n",
       "    }\n",
       "</style>\n",
       "<table border=\"1\" class=\"dataframe\">\n",
       "  <thead>\n",
       "    <tr style=\"text-align: right;\">\n",
       "      <th></th>\n",
       "      <th>datetime</th>\n",
       "      <th>city</th>\n",
       "      <th>state</th>\n",
       "      <th>country</th>\n",
       "      <th>shape</th>\n",
       "      <th>duration (seconds)</th>\n",
       "      <th>duration (hours/min)</th>\n",
       "      <th>comments</th>\n",
       "      <th>date posted</th>\n",
       "      <th>latitude</th>\n",
       "      <th>longitude</th>\n",
       "    </tr>\n",
       "  </thead>\n",
       "  <tbody>\n",
       "    <tr>\n",
       "      <th>0</th>\n",
       "      <td>10/10/1949 20:30</td>\n",
       "      <td>san marcos</td>\n",
       "      <td>tx</td>\n",
       "      <td>us</td>\n",
       "      <td>cylinder</td>\n",
       "      <td>2700.0</td>\n",
       "      <td>45 minutes</td>\n",
       "      <td>This event took place in early fall around 194...</td>\n",
       "      <td>4/27/2004</td>\n",
       "      <td>29.883056</td>\n",
       "      <td>-97.941111</td>\n",
       "    </tr>\n",
       "    <tr>\n",
       "      <th>1</th>\n",
       "      <td>10/10/1949 21:00</td>\n",
       "      <td>lackland afb</td>\n",
       "      <td>tx</td>\n",
       "      <td>NaN</td>\n",
       "      <td>light</td>\n",
       "      <td>7200.0</td>\n",
       "      <td>1-2 hrs</td>\n",
       "      <td>1949 Lackland AFB&amp;#44 TX.  Lights racing acros...</td>\n",
       "      <td>12/16/2005</td>\n",
       "      <td>29.384210</td>\n",
       "      <td>-98.581082</td>\n",
       "    </tr>\n",
       "    <tr>\n",
       "      <th>2</th>\n",
       "      <td>10/10/1955 17:00</td>\n",
       "      <td>chester (uk/england)</td>\n",
       "      <td>NaN</td>\n",
       "      <td>gb</td>\n",
       "      <td>circle</td>\n",
       "      <td>20.0</td>\n",
       "      <td>20 seconds</td>\n",
       "      <td>Green/Orange circular disc over Chester&amp;#44 En...</td>\n",
       "      <td>1/21/2008</td>\n",
       "      <td>53.200000</td>\n",
       "      <td>-2.916667</td>\n",
       "    </tr>\n",
       "    <tr>\n",
       "      <th>3</th>\n",
       "      <td>10/10/1956 21:00</td>\n",
       "      <td>edna</td>\n",
       "      <td>tx</td>\n",
       "      <td>us</td>\n",
       "      <td>circle</td>\n",
       "      <td>20.0</td>\n",
       "      <td>1/2 hour</td>\n",
       "      <td>My older brother and twin sister were leaving ...</td>\n",
       "      <td>1/17/2004</td>\n",
       "      <td>28.978333</td>\n",
       "      <td>-96.645833</td>\n",
       "    </tr>\n",
       "    <tr>\n",
       "      <th>4</th>\n",
       "      <td>10/10/1960 20:00</td>\n",
       "      <td>kaneohe</td>\n",
       "      <td>hi</td>\n",
       "      <td>us</td>\n",
       "      <td>light</td>\n",
       "      <td>900.0</td>\n",
       "      <td>15 minutes</td>\n",
       "      <td>AS a Marine 1st Lt. flying an FJ4B fighter/att...</td>\n",
       "      <td>1/22/2004</td>\n",
       "      <td>21.418056</td>\n",
       "      <td>-157.803611</td>\n",
       "    </tr>\n",
       "  </tbody>\n",
       "</table>\n",
       "</div>"
      ],
      "text/plain": [
       "           datetime                  city state country     shape  \\\n",
       "0  10/10/1949 20:30            san marcos    tx      us  cylinder   \n",
       "1  10/10/1949 21:00          lackland afb    tx     NaN     light   \n",
       "2  10/10/1955 17:00  chester (uk/england)   NaN      gb    circle   \n",
       "3  10/10/1956 21:00                  edna    tx      us    circle   \n",
       "4  10/10/1960 20:00               kaneohe    hi      us     light   \n",
       "\n",
       "   duration (seconds) duration (hours/min)  \\\n",
       "0              2700.0           45 minutes   \n",
       "1              7200.0              1-2 hrs   \n",
       "2                20.0           20 seconds   \n",
       "3                20.0             1/2 hour   \n",
       "4               900.0           15 minutes   \n",
       "\n",
       "                                            comments date posted   latitude  \\\n",
       "0  This event took place in early fall around 194...   4/27/2004  29.883056   \n",
       "1  1949 Lackland AFB&#44 TX.  Lights racing acros...  12/16/2005  29.384210   \n",
       "2  Green/Orange circular disc over Chester&#44 En...   1/21/2008  53.200000   \n",
       "3  My older brother and twin sister were leaving ...   1/17/2004  28.978333   \n",
       "4  AS a Marine 1st Lt. flying an FJ4B fighter/att...   1/22/2004  21.418056   \n",
       "\n",
       "    longitude  \n",
       "0  -97.941111  \n",
       "1  -98.581082  \n",
       "2   -2.916667  \n",
       "3  -96.645833  \n",
       "4 -157.803611  "
      ]
     },
     "execution_count": 21,
     "metadata": {},
     "output_type": "execute_result"
    }
   ],
   "source": [
    "# Import the basic libraries\n",
    "import pandas as pd\n",
    "import numpy as np\n",
    "\n",
    "# Load the UFO sightings dataset\n",
    "ufos = pd.read_csv('./data/ufos.csv')\n",
    "\n",
    "# Display the first rows\n",
    "ufos.head()"
   ]
  },
  {
   "cell_type": "code",
   "execution_count": 22,
   "id": "5e8af09e-1646-4e24-b12a-865de62cda1f",
   "metadata": {},
   "outputs": [
    {
     "data": {
      "text/plain": [
       "array(['us', nan, 'gb', 'ca', 'au', 'de'], dtype=object)"
      ]
     },
     "execution_count": 22,
     "metadata": {},
     "output_type": "execute_result"
    }
   ],
   "source": [
    "# Create a smaller dataframe with only the needed columns\n",
    "ufos = pd.DataFrame({\n",
    "    'Seconds': ufos['duration (seconds)'],\n",
    "    'Country': ufos['country'],\n",
    "    'Latitude': ufos['latitude'],\n",
    "    'Longitude': ufos['longitude']\n",
    "})\n",
    "\n",
    "# Check the unique countries\n",
    "ufos.Country.unique()"
   ]
  },
  {
   "cell_type": "code",
   "execution_count": 23,
   "id": "f5e9efa9-1379-4875-afae-74bb2eda6688",
   "metadata": {},
   "outputs": [
    {
     "name": "stdout",
     "output_type": "stream",
     "text": [
      "<class 'pandas.core.frame.DataFrame'>\n",
      "Index: 25863 entries, 2 to 80330\n",
      "Data columns (total 4 columns):\n",
      " #   Column     Non-Null Count  Dtype  \n",
      "---  ------     --------------  -----  \n",
      " 0   Seconds    25863 non-null  float64\n",
      " 1   Country    25863 non-null  object \n",
      " 2   Latitude   25863 non-null  float64\n",
      " 3   Longitude  25863 non-null  float64\n",
      "dtypes: float64(3), object(1)\n",
      "memory usage: 1010.3+ KB\n"
     ]
    }
   ],
   "source": [
    "# Drop rows with missing values\n",
    "ufos.dropna(inplace=True)\n",
    "\n",
    "# Keep only sightings between 1 and 60 seconds\n",
    "ufos = ufos[(ufos['Seconds'] >= 1) & (ufos['Seconds'] <= 60)]\n",
    "\n",
    "# Show info about the dataset\n",
    "ufos.info()"
   ]
  },
  {
   "cell_type": "code",
   "execution_count": 24,
   "id": "03182b15-c95d-4a0f-a272-67e8addeca5c",
   "metadata": {},
   "outputs": [
    {
     "name": "stdout",
     "output_type": "stream",
     "text": [
      "['au', 'ca', 'de', 'gb', 'us']\n"
     ]
    }
   ],
   "source": [
    "# Now check the unique country codes before encoding\n",
    "print(sorted(ufos['Country'].unique()))"
   ]
  },
  {
   "cell_type": "code",
   "execution_count": 25,
   "id": "cf77a077-3e34-4b04-96d6-a51a19b71f08",
   "metadata": {},
   "outputs": [
    {
     "data": {
      "text/html": [
       "<div>\n",
       "<style scoped>\n",
       "    .dataframe tbody tr th:only-of-type {\n",
       "        vertical-align: middle;\n",
       "    }\n",
       "\n",
       "    .dataframe tbody tr th {\n",
       "        vertical-align: top;\n",
       "    }\n",
       "\n",
       "    .dataframe thead th {\n",
       "        text-align: right;\n",
       "    }\n",
       "</style>\n",
       "<table border=\"1\" class=\"dataframe\">\n",
       "  <thead>\n",
       "    <tr style=\"text-align: right;\">\n",
       "      <th></th>\n",
       "      <th>Seconds</th>\n",
       "      <th>Country</th>\n",
       "      <th>Latitude</th>\n",
       "      <th>Longitude</th>\n",
       "    </tr>\n",
       "  </thead>\n",
       "  <tbody>\n",
       "    <tr>\n",
       "      <th>2</th>\n",
       "      <td>20.0</td>\n",
       "      <td>3</td>\n",
       "      <td>53.200000</td>\n",
       "      <td>-2.916667</td>\n",
       "    </tr>\n",
       "    <tr>\n",
       "      <th>3</th>\n",
       "      <td>20.0</td>\n",
       "      <td>4</td>\n",
       "      <td>28.978333</td>\n",
       "      <td>-96.645833</td>\n",
       "    </tr>\n",
       "    <tr>\n",
       "      <th>14</th>\n",
       "      <td>30.0</td>\n",
       "      <td>4</td>\n",
       "      <td>35.823889</td>\n",
       "      <td>-80.253611</td>\n",
       "    </tr>\n",
       "    <tr>\n",
       "      <th>23</th>\n",
       "      <td>60.0</td>\n",
       "      <td>4</td>\n",
       "      <td>45.582778</td>\n",
       "      <td>-122.352222</td>\n",
       "    </tr>\n",
       "    <tr>\n",
       "      <th>24</th>\n",
       "      <td>3.0</td>\n",
       "      <td>3</td>\n",
       "      <td>51.783333</td>\n",
       "      <td>-0.783333</td>\n",
       "    </tr>\n",
       "  </tbody>\n",
       "</table>\n",
       "</div>"
      ],
      "text/plain": [
       "    Seconds  Country   Latitude   Longitude\n",
       "2      20.0        3  53.200000   -2.916667\n",
       "3      20.0        4  28.978333  -96.645833\n",
       "14     30.0        4  35.823889  -80.253611\n",
       "23     60.0        4  45.582778 -122.352222\n",
       "24      3.0        3  51.783333   -0.783333"
      ]
     },
     "execution_count": 25,
     "metadata": {},
     "output_type": "execute_result"
    }
   ],
   "source": [
    "# Import LabelEncoder\n",
    "from sklearn.preprocessing import LabelEncoder\n",
    "\n",
    "# Create and fit the encoder\n",
    "label_encoder = LabelEncoder()\n",
    "ufos['Country'] = label_encoder.fit_transform(ufos['Country'])\n",
    "\n",
    "# Display the first rows\n",
    "ufos.head()\n"
   ]
  },
  {
   "cell_type": "code",
   "execution_count": 28,
   "id": "d89f62ca-61c5-4f9f-89f7-0871e2b1ffb0",
   "metadata": {},
   "outputs": [],
   "source": [
    "# Select features for training\n",
    "Selected_features = ['Seconds', 'Latitude', 'Longitude']\n",
    "\n",
    "X = ufos[Selected_features]\n",
    "y = ufos['Country']"
   ]
  },
  {
   "cell_type": "code",
   "execution_count": 29,
   "id": "b437d95d-33f9-4c6b-acf2-a96d30c365af",
   "metadata": {},
   "outputs": [],
   "source": [
    "# Import train_test_split\n",
    "from sklearn.model_selection import train_test_split\n",
    "\n",
    "# Split the dataset into training and testing sets\n",
    "X_train, X_test, y_train, y_test = train_test_split(X, y, test_size=0.2, random_state=0)\n"
   ]
  },
  {
   "cell_type": "code",
   "execution_count": 34,
   "id": "213ac6b5-cfba-43d0-a554-df9ab2b08252",
   "metadata": {},
   "outputs": [
    {
     "name": "stdout",
     "output_type": "stream",
     "text": [
      "              precision    recall  f1-score   support\n",
      "\n",
      "           0       1.00      1.00      1.00        41\n",
      "           1       0.85      0.47      0.60       250\n",
      "           2       1.00      1.00      1.00         8\n",
      "           3       1.00      1.00      1.00       131\n",
      "           4       0.97      1.00      0.98      4743\n",
      "\n",
      "    accuracy                           0.97      5173\n",
      "   macro avg       0.96      0.89      0.92      5173\n",
      "weighted avg       0.97      0.97      0.97      5173\n",
      "\n",
      "Predicted labels:  [4 4 4 ... 3 4 4]\n",
      "Accuracy:  0.9702300405953992\n"
     ]
    }
   ],
   "source": [
    "# Import the logistic regression model\n",
    "from sklearn.linear_model import LogisticRegression\n",
    "from sklearn.metrics import accuracy_score, classification_report\n",
    "\n",
    "# Train the model\n",
    "model = LogisticRegression(max_iter=1000)\n",
    "model.fit(X_train, y_train)\n",
    "\n",
    "# Make predictions\n",
    "predictions = model.predict(X_test)\n",
    "\n",
    "# Evaluate the model\n",
    "print(classification_report(y_test, predictions))\n",
    "print('Predicted labels: ', predictions)\n",
    "print('Accuracy: ', accuracy_score(y_test, predictions))\n"
   ]
  },
  {
   "cell_type": "code",
   "execution_count": 35,
   "id": "ff2f2300-a063-43e7-bc15-987c9841cfd5",
   "metadata": {},
   "outputs": [],
   "source": [
    "# Import pickle to save the model\n",
    "import pickle\n",
    "\n",
    "# Define the filename for the model\n",
    "model_filename = 'ufo-model.pkl'\n",
    "\n",
    "# Save the model\n",
    "pickle.dump(model, open(model_filename, 'wb'))"
   ]
  },
  {
   "cell_type": "code",
   "execution_count": 36,
   "id": "22e08e46-5ab4-4a97-9142-6be7e7a12bfa",
   "metadata": {},
   "outputs": [
    {
     "name": "stdout",
     "output_type": "stream",
     "text": [
      "[3]\n"
     ]
    },
    {
     "name": "stderr",
     "output_type": "stream",
     "text": [
      "C:\\Users\\Usuario\\AppData\\Local\\Programs\\Python\\Python313\\Lib\\site-packages\\sklearn\\utils\\validation.py:2739: UserWarning: X does not have valid feature names, but LogisticRegression was fitted with feature names\n",
      "  warnings.warn(\n"
     ]
    }
   ],
   "source": [
    "# Load the model from the file\n",
    "model = pickle.load(open('ufo-model.pkl', 'rb'))\n",
    "\n",
    "# Make a test prediction\n",
    "print(model.predict([[50, 44, -12]]))  # Example: 50 seconds, latitude 44, longitude -12"
   ]
  },
  {
   "cell_type": "code",
   "execution_count": null,
   "id": "c998ec7c-2ae3-4f3c-b178-ad98108c1bb7",
   "metadata": {},
   "outputs": [],
   "source": [
    "# Pros and Cons of having a `/train` route in a Flask app\n",
    "\n",
    "## ✅ Pros\n",
    "- Easy to retrain the model by just visiting a URL.\n",
    "- Useful for development and testing.\n",
    "- Automatically updates the model without using `.pkl`.\n",
    "- Keeps the model up-to-date with new data.\n",
    "\n",
    "## ⚠️ Cons\n",
    "- Not secure: anyone can access `/train` and retrain the model.\n",
    "- Can slow down or crash the app if used too often.\n",
    "- Overwrites the model every time (no version control).\n",
    "- Not scalable for production environments.\n",
    "\n",
    "## 💡 Conclusion\n",
    "Great for learning and local testing, but not safe or practical for real-world production apps.\n"
   ]
  }
 ],
 "metadata": {
  "kernelspec": {
   "display_name": "Python 3 (ipykernel)",
   "language": "python",
   "name": "python3"
  },
  "language_info": {
   "codemirror_mode": {
    "name": "ipython",
    "version": 3
   },
   "file_extension": ".py",
   "mimetype": "text/x-python",
   "name": "python",
   "nbconvert_exporter": "python",
   "pygments_lexer": "ipython3",
   "version": "3.13.2"
  }
 },
 "nbformat": 4,
 "nbformat_minor": 5
}
